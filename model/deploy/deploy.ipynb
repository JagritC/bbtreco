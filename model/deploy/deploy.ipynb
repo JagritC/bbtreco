{
 "cells": [
  {
   "cell_type": "code",
   "execution_count": 19,
   "metadata": {},
   "outputs": [],
   "source": [
    "# import required libraries\n",
    "from azure.ai.ml import MLClient\n",
    "from azure.ai.ml.entities import (\n",
    "    ManagedOnlineEndpoint,\n",
    "    ManagedOnlineDeployment,\n",
    "    Model,\n",
    "    Environment,\n",
    "    CodeConfiguration,\n",
    ")\n",
    "from azure.identity import DefaultAzureCredential, InteractiveBrowserCredential\n",
    "\n",
    "\n",
    "from azure.ai.ml.constants import AssetTypes\n",
    "\n",
    "import json\n",
    "import datetime\n",
    "from dotenv import load_dotenv\n",
    "import os\n",
    "\n"
   ]
  },
  {
   "cell_type": "code",
   "execution_count": 20,
   "metadata": {},
   "outputs": [],
   "source": [
    "model_path = \"../output/xgboost_model.pkl\""
   ]
  },
  {
   "cell_type": "code",
   "execution_count": 21,
   "metadata": {},
   "outputs": [],
   "source": [
    "try:\n",
    "    credential = DefaultAzureCredential()\n",
    "    # Check if given credential can get token successfully.\n",
    "    credential.get_token(\"https://management.azure.com/.default\")\n",
    "except Exception as ex:\n",
    "    # Fall back to InteractiveBrowserCredential in case DefaultAzureCredential not work\n",
    "    # This will open a browser page for\n",
    "    credential = InteractiveBrowserCredential()"
   ]
  },
  {
   "cell_type": "code",
   "execution_count": 22,
   "metadata": {},
   "outputs": [],
   "source": [
    "# Load the content of the config.json file\n",
    "with open('azure_config.json', 'r') as file:\n",
    "    azure_config = json.load(file)\n",
    "\n",
    "# enter details of your Azure Machine Learning workspace\n",
    "subscription_id = azure_config.get('subscription_id')\n",
    "resource_group = azure_config.get('resource_group')\n",
    "workspace = azure_config.get('workspace_name')\n",
    "\n",
    "# get a handle to the workspace\n",
    "ml_client = MLClient(\n",
    "    credential, subscription_id, resource_group, workspace\n",
    ")"
   ]
  },
  {
   "cell_type": "markdown",
   "metadata": {},
   "source": [
    "#### Register model"
   ]
  },
  {
   "cell_type": "code",
   "execution_count": 13,
   "metadata": {},
   "outputs": [
    {
     "name": "stderr",
     "output_type": "stream",
     "text": [
      "\u001b[32mUploading xgboost_model.pkl\u001b[32m (< 1 MB): 100%|##########| 171k/171k [00:00<00:00, 1.01MB/s]\n",
      "\u001b[39m\n",
      "\n"
     ]
    },
    {
     "data": {
      "text/plain": [
       "Model({'job_name': None, 'intellectual_property': None, 'is_anonymous': False, 'auto_increment_version': False, 'auto_delete_setting': None, 'name': 'xgboost_model', 'description': 'XGBoost Model recommender', 'tags': {}, 'properties': {}, 'print_as_yaml': False, 'id': '/subscriptions/aa499b08-3aec-4b69-aec8-fe92d0cb1c99/resourceGroups/bobafy/providers/Microsoft.MachineLearningServices/workspaces/bobafy_model_dev/models/xgboost_model/versions/1', 'Resource__source_path': '', 'base_path': 'c:\\\\Users\\\\User\\\\Documents\\\\Ali\\\\Projects\\\\buildspace\\\\bbtreco\\\\model\\\\deploy', 'creation_context': <azure.ai.ml.entities._system_data.SystemData object at 0x000002F30EE43590>, 'serialize': <msrest.serialization.Serializer object at 0x000002F30EF42120>, 'version': '1', 'latest_version': None, 'path': 'azureml://subscriptions/aa499b08-3aec-4b69-aec8-fe92d0cb1c99/resourceGroups/bobafy/workspaces/bobafy_model_dev/datastores/workspaceblobstore/paths/LocalUpload/711d4142fab7a85cea2e56c588edb92d/xgboost_model.pkl', 'datastore': None, 'utc_time_created': None, 'flavors': None, 'arm_type': 'model_version', 'type': 'custom_model', 'stage': 'Development'})"
      ]
     },
     "execution_count": 13,
     "metadata": {},
     "output_type": "execute_result"
    }
   ],
   "source": [
    "file_model = Model(\n",
    "    path=model_path,\n",
    "    type=AssetTypes.CUSTOM_MODEL,\n",
    "    name=\"xgboost_model\",\n",
    "    description=\"XGBoost Model recommender\",\n",
    ")\n",
    "ml_client.models.create_or_update(file_model)"
   ]
  },
  {
   "cell_type": "markdown",
   "metadata": {},
   "source": [
    "#### Environment"
   ]
  },
  {
   "cell_type": "code",
   "execution_count": 35,
   "metadata": {},
   "outputs": [
    {
     "data": {
      "text/plain": [
       "Environment({'arm_type': 'environment_version', 'latest_version': None, 'image': 'mcr.microsoft.com/azureml/openmpi4.1.0-ubuntu20.04:latest', 'intellectual_property': None, 'is_anonymous': False, 'auto_increment_version': False, 'auto_delete_setting': None, 'name': 'bobafy-xgboost-env', 'description': 'Environment created from a Docker image plus Conda environment.', 'tags': {}, 'properties': {'azureml.labels': 'latest'}, 'print_as_yaml': False, 'id': '/subscriptions/aa499b08-3aec-4b69-aec8-fe92d0cb1c99/resourceGroups/bobafy/providers/Microsoft.MachineLearningServices/workspaces/bobafy_model_dev/environments/bobafy-xgboost-env/versions/4', 'Resource__source_path': '', 'base_path': 'c:\\\\Users\\\\User\\\\Documents\\\\Ali\\\\Projects\\\\buildspace\\\\bbtreco\\\\model\\\\deploy', 'creation_context': <azure.ai.ml.entities._system_data.SystemData object at 0x00000254F6C04B30>, 'serialize': <msrest.serialization.Serializer object at 0x00000254F6C07740>, 'version': '4', 'conda_file': {'channels': ['defaults'], 'dependencies': ['python=3.8', 'ipykernel', 'numpy', 'joblib', 'pandas', 'scikit-learn', 'py-xgboost-cpu', 'pip', {'pip': ['azureml-inference-server-http']}], 'name': 'bobafy-deploy', 'prefix': 'C:\\\\Users\\\\User\\\\anaconda3\\\\envs\\\\bobafy-deploy'}, 'build': None, 'inference_config': None, 'os_type': 'Linux', 'conda_file_path': None, 'path': None, 'datastore': None, 'upload_hash': None, 'translated_conda_file': '{\\n  \"channels\": [\\n    \"defaults\"\\n  ],\\n  \"dependencies\": [\\n    \"python=3.8\",\\n    \"ipykernel\",\\n    \"numpy\",\\n    \"joblib\",\\n    \"pandas\",\\n    \"scikit-learn\",\\n    \"py-xgboost-cpu\",\\n    \"pip\",\\n    {\\n      \"pip\": [\\n        \"azureml-inference-server-http\"\\n      ]\\n    }\\n  ],\\n  \"name\": \"bobafy-deploy\",\\n  \"prefix\": \"C:\\\\\\\\Users\\\\\\\\User\\\\\\\\anaconda3\\\\\\\\envs\\\\\\\\bobafy-deploy\"\\n}'})"
      ]
     },
     "execution_count": 35,
     "metadata": {},
     "output_type": "execute_result"
    }
   ],
   "source": [
    "env = Environment(\n",
    "    conda_file=\"conda.yaml\",\n",
    "    image=\"mcr.microsoft.com/azureml/openmpi4.1.0-ubuntu20.04:latest\",\n",
    "    name=\"bobafy-xgboost-env\",\n",
    "    description=\"Environment created from a Docker image plus Conda environment.\",\n",
    ")\n",
    "\n",
    "ml_client.environments.create_or_update(env)"
   ]
  },
  {
   "cell_type": "markdown",
   "metadata": {},
   "source": [
    "#### Endpoint"
   ]
  },
  {
   "cell_type": "code",
   "execution_count": 14,
   "metadata": {},
   "outputs": [
    {
     "name": "stdout",
     "output_type": "stream",
     "text": [
      "bobafy-endpoint07222040497208\n"
     ]
    }
   ],
   "source": [
    "# Define an endpoint name\n",
    "endpoint_name = \"bobafy-endpoint\"\n",
    "\n",
    "endpoint_name = endpoint_name + datetime.datetime.now().strftime(\"%m%d%H%M%f\")\n",
    "\n",
    "# create an online endpoint\n",
    "endpoint = ManagedOnlineEndpoint(\n",
    "    name = endpoint_name, \n",
    "    description=\"online endpoint for bobafy recommendation model\",\n",
    "    auth_mode=\"key\"\n",
    ")\n",
    "\n",
    "print(endpoint_name)"
   ]
  },
  {
   "cell_type": "code",
   "execution_count": 16,
   "metadata": {},
   "outputs": [
    {
     "name": "stdout",
     "output_type": "stream",
     "text": [
      "bobafy-endpoint07212348548964\n"
     ]
    }
   ],
   "source": [
    "for endpoint in ml_client.online_endpoints.list():\n",
    "    print(endpoint.name)"
   ]
  },
  {
   "cell_type": "code",
   "execution_count": null,
   "metadata": {},
   "outputs": [],
   "source": [
    "ml_client.online_endpoints.begin_create_or_update(endpoint)"
   ]
  },
  {
   "cell_type": "markdown",
   "metadata": {},
   "source": [
    "#### Deployment"
   ]
  },
  {
   "cell_type": "code",
   "execution_count": null,
   "metadata": {},
   "outputs": [],
   "source": [
    "# Deploy locally first\n",
    "ml_client.online_endpoints.begin_create_or_update(endpoint, local=True)"
   ]
  },
  {
   "cell_type": "code",
   "execution_count": 48,
   "metadata": {},
   "outputs": [],
   "source": [
    "# model = Model(path=\"model/output/xgboost_model.pkl\")\n",
    "# env = Environment(\n",
    "#     conda_file=\"model/deploy/conda.yaml\",\n",
    "#     image=\"mcr.microsoft.com/azureml/openmpi4.1.0-ubuntu20.04:latest\",\n",
    "# )\n",
    "\n",
    "\n",
    "model = \"azureml:xgboost_model:1\"\n",
    "env = \"azureml:bobafy-xgboost-env:4\"\n",
    "endpoint_name = \"bobafy-endpoint07212348548964\"\n",
    "\n",
    "blue_deployment = ManagedOnlineDeployment(\n",
    "    name=\"blue\",\n",
    "    endpoint_name=endpoint_name,\n",
    "    model=model,\n",
    "    environment=env,\n",
    "    # scoring_script = \"score.py\",\n",
    "    code_configuration=CodeConfiguration(\n",
    "        code=\".\", scoring_script=\"score.py\"\n",
    "    ),\n",
    "    instance_type=\"Standard_DS2_v2\",\n",
    "    instance_count=1,\n",
    ")"
   ]
  },
  {
   "cell_type": "code",
   "execution_count": 49,
   "metadata": {},
   "outputs": [
    {
     "name": "stderr",
     "output_type": "stream",
     "text": [
      "Instance type Standard_DS2_v2 may be too small for compute resources. Minimum recommended compute SKU is Standard_DS3_v2 for general purpose endpoints. Learn more about SKUs here: https://learn.microsoft.com/en-us/azure/machine-learning/referencemanaged-online-endpoints-vm-sku-list\n",
      "Check: endpoint bobafy-endpoint07212348548964 exists\n",
      "Uploading deploy (0.1 MBs): 100%|##########| 101685/101685 [00:00<00:00, 336804.43it/s]\n",
      "\n",
      "\n"
     ]
    },
    {
     "data": {
      "text/plain": [
       "<azure.core.polling._poller.LROPoller at 0x254f69e6930>"
      ]
     },
     "execution_count": 49,
     "metadata": {},
     "output_type": "execute_result"
    },
    {
     "name": "stdout",
     "output_type": "stream",
     "text": [
      ".........................................."
     ]
    }
   ],
   "source": [
    "ml_client.online_deployments.begin_create_or_update(blue_deployment)"
   ]
  },
  {
   "cell_type": "code",
   "execution_count": null,
   "metadata": {},
   "outputs": [],
   "source": [
    "# Debug\n",
    "\n",
    "# Get logs for the specific deployment\n",
    "logs = ml_client.online_deployments.get_logs(name=\"blue\", endpoint_name=\"bobafy-endpoint07212348548964\", lines=500)\n",
    "print(logs)"
   ]
  },
  {
   "cell_type": "code",
   "execution_count": 54,
   "metadata": {},
   "outputs": [
    {
     "name": "stdout",
     "output_type": "stream",
     "text": [
      "bobafy-endpoint07212348548964\n"
     ]
    }
   ],
   "source": [
    "for endpoint in ml_client.online_endpoints.list():\n",
    "    print(endpoint.name)"
   ]
  },
  {
   "cell_type": "markdown",
   "metadata": {},
   "source": [
    "#### Check if its up"
   ]
  },
  {
   "cell_type": "code",
   "execution_count": 59,
   "metadata": {},
   "outputs": [
    {
     "data": {
      "text/plain": [
       "'[{\"user_id\": 5, \"drink_id\": 200, \"fruity_user\": 1, \"milky_user\": 0, \"with_tea_user\": 1, \"refreshing_user\": 1, \"fragrant_user\": 0, \"adventurous_user\": 1, \"cold_user\": 1, \"fruity_drink\": 1, \"milky_drink\": 0, \"with_tea_drink\": 1, \"refreshing_drink\": 1, \"fragrant_drink\": 0, \"cold_drink\": 1, \"distance\": 2.5, \"popularity\": 85, \"score\": 0.950219452381134}, {\"user_id\": 5, \"drink_id\": 202, \"fruity_user\": 1, \"milky_user\": 0, \"with_tea_user\": 1, \"refreshing_user\": 1, \"fragrant_user\": 0, \"adventurous_user\": 1, \"cold_user\": 1, \"fruity_drink\": 1, \"milky_drink\": 1, \"with_tea_drink\": 0, \"refreshing_drink\": 1, \"fragrant_drink\": 0, \"cold_drink\": 0, \"distance\": 1.5, \"popularity\": 75, \"score\": -0.139688178896904}, {\"user_id\": 5, \"drink_id\": 201, \"fruity_user\": 1, \"milky_user\": 0, \"with_tea_user\": 1, \"refreshing_user\": 1, \"fragrant_user\": 0, \"adventurous_user\": 1, \"cold_user\": 1, \"fruity_drink\": 0, \"milky_drink\": 1, \"with_tea_drink\": 1, \"refreshing_drink\": 0, \"fragrant_drink\": 1, \"cold_drink\": 1, \"distance\": 3.0, \"popularity\": 90, \"score\": -0.7409189939498901}]'"
      ]
     },
     "execution_count": 59,
     "metadata": {},
     "output_type": "execute_result"
    }
   ],
   "source": [
    "# test the blue deployment with some sample data\n",
    "ml_client.online_endpoints.invoke(\n",
    "    endpoint_name=endpoint_name,\n",
    "    deployment_name=\"blue\",\n",
    "    request_file=\"sample-request.json\",\n",
    ")"
   ]
  }
 ],
 "metadata": {
  "kernelspec": {
   "display_name": "bobafy-deploy",
   "language": "python",
   "name": "python3"
  },
  "language_info": {
   "codemirror_mode": {
    "name": "ipython",
    "version": 3
   },
   "file_extension": ".py",
   "mimetype": "text/x-python",
   "name": "python",
   "nbconvert_exporter": "python",
   "pygments_lexer": "ipython3",
   "version": "3.12.4"
  }
 },
 "nbformat": 4,
 "nbformat_minor": 2
}
