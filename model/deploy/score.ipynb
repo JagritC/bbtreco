{
 "cells": [
  {
   "cell_type": "code",
   "execution_count": null,
   "metadata": {},
   "outputs": [],
   "source": [
    "import os\n",
    "import logging\n",
    "import json\n",
    "import numpy\n",
    "import joblib\n",
    "\n",
    "import pandas as pd\n",
    "import sklearn"
   ]
  },
  {
   "cell_type": "code",
   "execution_count": null,
   "metadata": {},
   "outputs": [],
   "source": [
    "def init():\n",
    "    \"\"\"\n",
    "    This function is called when the container is initialized/started, typically after create/update of the deployment.\n",
    "    You can write the logic here to perform init operations like caching the model in memory\n",
    "    \"\"\"\n",
    "    global model\n",
    "    # AZUREML_MODEL_DIR is an environment variable created during deployment.\n",
    "    # It is the path to the model folder (./azureml-models/$MODEL_NAME/$VERSION)\n",
    "    # Please provide your model's folder name if there is one\n",
    "    model_path = os.path.join(\n",
    "        os.getenv(\"AZUREML_MODEL_DIR\"), \"model/output/xgboost_model.pkl\"\n",
    "    )\n",
    "    # deserialize the model file back into a sklearn model\n",
    "    model = joblib.load(model_path)\n",
    "    logging.info(\"Init complete\")\n",
    "\n",
    "\n",
    "def run(raw_data):\n",
    "    \"\"\"\n",
    "    This function is called for every invocation of the endpoint to perform the actual scoring/prediction.\n",
    "    In the example we extract the data from the json input and call the scikit-learn model's predict()\n",
    "    method and return the result back\n",
    "    \"\"\"\n",
    "    logging.info(\"model 1: request received\")\n",
    "    data = json.loads(raw_data)\n",
    "    available_drinks = pd.DataFrame(data['available_bubble_teas'])\n",
    "    user_preferences = pd.DataFrame(data['user_preferences'])\n",
    "\n",
    "\n",
    "    # create user-bubble_tea interaction pairs\n",
    "    drinks_preferences_pairs = user_preferences.merge(available_drinks, how='cross')\n",
    "\n",
    "    # create predictions\n",
    "    result = model.predict(data)\n",
    "    logging.info(\"Request processed\")\n",
    "    return result.tolist()"
   ]
  },
  {
   "cell_type": "code",
   "execution_count": null,
   "metadata": {},
   "outputs": [],
   "source": [
    "# import json\n",
    "# import joblib\n",
    "# import numpy as np\n",
    "# import os\n",
    "\n",
    "# # called when the deployment is created or updated\n",
    "# def init():\n",
    "#     global model\n",
    "#     # get the path to the registered model file and load it\n",
    "#     model_path = os.path.join(os.getenv('AZUREML_MODEL_DIR'), 'model.pkl')\n",
    "#     model = joblib.load(model_path)\n",
    "\n",
    "# # called when a request is received\n",
    "# def run(raw_data):\n",
    "#     # get the input data as a numpy array\n",
    "#     data = np.array(json.loads(raw_data)['data'])\n",
    "#     # get a prediction from the model\n",
    "#     predictions = model.predict(data)\n",
    "#     # return the predictions as any JSON serializable format\n",
    "#     return predictions.tolist()"
   ]
  }
 ],
 "metadata": {
  "kernelspec": {
   "display_name": "bobafy-deploy",
   "language": "python",
   "name": "python3"
  },
  "language_info": {
   "name": "python",
   "version": "3.12.4"
  }
 },
 "nbformat": 4,
 "nbformat_minor": 2
}
