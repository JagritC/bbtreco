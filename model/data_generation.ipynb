{
 "cells": [
  {
   "cell_type": "code",
   "execution_count": null,
   "metadata": {},
   "outputs": [],
   "source": [
    "import matplotlib.pyplot as plt\n",
    "import seaborn as sns\n",
    "import pandas as pd"
   ]
  },
  {
   "cell_type": "code",
   "execution_count": null,
   "metadata": {},
   "outputs": [],
   "source": [
    "user_preferences = pd.read_csv(\"training_data/bubble_tea_user_recommendation_data.csv\")"
   ]
  },
  {
   "cell_type": "code",
   "execution_count": null,
   "metadata": {},
   "outputs": [],
   "source": [
    "\n",
    "# Set the style for the plots\n",
    "sns.set(style=\"whitegrid\")\n",
    "\n",
    "# Function to plot distributions\n",
    "def plot_distribution(data, title, xlabel, ylabel):\n",
    "    plt.figure(figsize=(10, 6))\n",
    "    sns.barplot(x=data.index, y=data.values, palette=\"viridis\")\n",
    "    plt.title(title)\n",
    "    plt.xlabel(xlabel)\n",
    "    plt.ylabel(ylabel)\n",
    "    plt.show()\n",
    "\n",
    "# User Preferences Distribution\n",
    "user_preferences_dist = user_preferences.apply(pd.Series.value_counts, normalize=True).fillna(0)\n",
    "\n",
    "# Plot user preferences distribution\n",
    "for column in user_preferences.columns[1:]:\n",
    "    distribution = user_preferences[column].value_counts(normalize=True)\n",
    "    plot_distribution(distribution, f\"Distribution of {column} (User Preferences)\", column, \"Proportion\")\n",
    "\n",
    "# Bubble Tea Drinks Distribution\n",
    "bubble_tea_drinks_dist = bubble_tea_drinks.apply(pd.Series.value_counts, normalize=True).fillna(0)\n",
    "\n",
    "# Plot bubble tea drinks distribution\n",
    "for column in bubble_tea_drinks.columns[1:]:\n",
    "    distribution = bubble_tea_drinks[column].value_counts(normalize=True)\n",
    "    plot_distribution(distribution, f\"Distribution of {column} (Bubble Tea Drinks)\", column, \"Proportion\")\n",
    "\n",
    "# Combined Interaction Data Distribution\n",
    "label_dist = interaction_df['label'].value_counts(normalize=True)\n",
    "plot_distribution(label_dist, \"Distribution of Labels (Interaction Data)\", \"Label\", \"Proportion\")\n",
    "\n",
    "# Sanity Check Samples\n",
    "sample_user_preferences = user_preferences.head()\n",
    "sample_bubble_tea_drinks = bubble_tea_drinks.head()\n",
    "sample_interaction_data = interaction_df.head()\n",
    "\n",
    "(sample_user_preferences, sample_bubble_tea_drinks, sample_interaction_data)\n"
   ]
  }
 ],
 "metadata": {
  "language_info": {
   "name": "python"
  }
 },
 "nbformat": 4,
 "nbformat_minor": 2
}
