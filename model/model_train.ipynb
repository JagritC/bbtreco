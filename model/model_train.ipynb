{
 "cells": [
  {
   "cell_type": "markdown",
   "metadata": {},
   "source": [
    "### Data Preprocessing"
   ]
  },
  {
   "cell_type": "code",
   "execution_count": null,
   "metadata": {},
   "outputs": [],
   "source": [
    "import pandas as pd\n",
    "from sklearn.preprocessing import OneHotEncoder, StandardScaler\n",
    "\n",
    "# Example user preferences and bubble tea drinks data\n",
    "user_preferences = pd.DataFrame({\n",
    "    'user_id': [1, 2],\n",
    "    'fruity': [1, 0],\n",
    "    'milky': [0, 1],\n",
    "    'with_tea': [1, 1],\n",
    "    'refreshing': [1, 0],\n",
    "    'fragrant': [0, 1],\n",
    "    'adventurous': [1, 0],\n",
    "    'cold': [1, 1]\n",
    "})\n",
    "\n",
    "bubble_tea_drinks = pd.DataFrame({\n",
    "    'drink_id': [101, 102],\n",
    "    'fruity': [1, 0],\n",
    "    'milky': [0, 1],\n",
    "    'with_tea': [1, 1],\n",
    "    'refreshing': [1, 0],\n",
    "    'fragrant': [0, 1],\n",
    "    'cold': [1, 1],\n",
    "    'distance': [0.5, 1.2],  # Distance in miles\n",
    "    'popularity': [80, 60]  # Popularity score\n",
    "})\n",
    "\n",
    "# One-hot encoding categorical features if necessary\n",
    "# Here we assume that all features are already numeric\n",
    "\n",
    "# Merging user preferences with bubble tea drinks\n",
    "def merge_preferences_and_drinks(user_prefs, drinks):\n",
    "    merged_data = []\n",
    "    for _, user in user_prefs.iterrows():\n",
    "        for _, drink in drinks.iterrows():\n",
    "            combined_features = {**user.to_dict(), **drink.to_dict()}\n",
    "            combined_features['user_id'] = user['user_id']\n",
    "            combined_features['drink_id'] = drink['drink_id']\n",
    "            merged_data.append(combined_features)\n",
    "    return pd.DataFrame(merged_data)\n",
    "\n",
    "merged_data = merge_preferences_and_drinks(user_preferences, bubble_tea_drinks)\n",
    "\n",
    "# Feature scaling for numerical features\n",
    "scaler = StandardScaler()\n",
    "merged_data[['distance', 'popularity']] = scaler.fit_transform(merged_data[['distance', 'popularity']])\n",
    "\n",
    "print(merged_data)\n"
   ]
  },
  {
   "cell_type": "markdown",
   "metadata": {},
   "source": [
    "### Model Training"
   ]
  },
  {
   "cell_type": "code",
   "execution_count": null,
   "metadata": {},
   "outputs": [],
   "source": [
    "from sklearn.ensemble import RandomForestClassifier\n",
    "\n",
    "# Assuming 'merged_data' is the preprocessed dataframe with labels\n",
    "# Example labels (1 for liked/recommended, 0 for not liked/not recommended)\n",
    "merged_data['label'] = [1, 0, 0, 1]  # Add your actual labels here\n",
    "\n",
    "# Features and labels\n",
    "X = merged_data.drop(['user_id', 'drink_id', 'label'], axis=1)\n",
    "y = merged_data['label']\n",
    "\n",
    "# Train a classifier\n",
    "model = RandomForestClassifier()\n",
    "model.fit(X, y)\n",
    "\n",
    "# Predict for a new user preference\n",
    "new_user_pref = pd.DataFrame({\n",
    "    'fruity': [1],\n",
    "    'milky': [0],\n",
    "    'with_tea': [1],\n",
    "    'refreshing': [1],\n",
    "    'fragrant': [0],\n",
    "    'adventurous': [1],\n",
    "    'cold': [1],\n",
    "    'distance': [0.4],  # Scaled value\n",
    "    'popularity': [75]  # Scaled value\n",
    "})\n",
    "prediction = model.predict(new_user_pref)\n",
    "print(prediction)\n"
   ]
  }
 ],
 "metadata": {
  "kernelspec": {
   "display_name": "bobafy",
   "language": "python",
   "name": "python3"
  },
  "language_info": {
   "name": "python",
   "version": "3.11.1"
  }
 },
 "nbformat": 4,
 "nbformat_minor": 2
}
